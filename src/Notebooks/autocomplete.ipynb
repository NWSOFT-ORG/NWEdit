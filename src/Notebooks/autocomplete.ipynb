{
 "cells": [
  {
   "cell_type": "markdown",
   "metadata": {},
   "source": [
    "# Autocomplete Tests\n"
   ]
  },
  {
   "cell_type": "code",
   "execution_count": 10,
   "metadata": {},
   "outputs": [
    {
     "name": "stdout",
     "output_type": "stream",
     "text": [
      "There are 16 words\n"
     ]
    }
   ],
   "source": [
    "\n",
    "STRING = \"abc def ghi jkl mno pqr stu vwx y and z then abc def ghi jkl\"\n",
    "WORDS = STRING.split()\n",
    "print(f\"There are {len(WORDS)} words\")"
   ]
  },
  {
   "cell_type": "markdown",
   "metadata": {},
   "source": [
    "## 1. Sort words by appearance"
   ]
  },
  {
   "cell_type": "code",
   "execution_count": 11,
   "metadata": {},
   "outputs": [],
   "source": [
    "def sort():\n",
    "    # Time: 0.8s\n",
    "    words = {WORDS[x]: 0 for x in range(len(WORDS))}\n",
    "\n",
    "    for word in words:\n",
    "        words[word] = WORDS.count(word)\n",
    "\n",
    "    WORDS.sort(key=lambda word: words[word])\n",
    "\n",
    "sort()"
   ]
  }
 ],
 "metadata": {
  "kernelspec": {
   "display_name": "Python 3.10.4 ('NWEdit')",
   "language": "python",
   "name": "python3"
  },
  "language_info": {
   "codemirror_mode": {
    "name": "ipython",
    "version": 3
   },
   "file_extension": ".py",
   "mimetype": "text/x-python",
   "name": "python",
   "nbconvert_exporter": "python",
   "pygments_lexer": "ipython3",
   "version": "3.10.4"
  },
  "orig_nbformat": 4,
  "vscode": {
   "interpreter": {
    "hash": "02681a74f481bb3c432ebc678e663edcc84d7e5b98ef458b9e925f40aba572a1"
   }
  }
 },
 "nbformat": 4,
 "nbformat_minor": 2
}
