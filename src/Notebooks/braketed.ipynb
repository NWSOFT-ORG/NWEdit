{
 "cells": [
  {
   "cell_type": "code",
   "execution_count": 1,
   "metadata": {
    "collapsed": true
   },
   "outputs": [],
   "source": [
    "# noinspection JupyterPackage\n",
    "import re\n",
    "\n",
    "BRAKETED = re.compile(r'\\[(.*)]')\n",
    "\n",
    "\n",
    "def is_braketed(string):\n",
    "    \"\"\"Check if a string is braketed\"\"\"\n",
    "    return BRAKETED.match(string) is not None\n",
    "\n",
    "\n",
    "def find_braketed_text(text, string):\n",
    "    \"\"\"Find specified braketed text in a string\"\"\"\n",
    "    pattern = re.compile(fr'\\[{text}]')\n",
    "    return list(re.finditer(pattern, string))\n",
    "\n",
    "\n",
    "def replace_braketed(string, item, replace):\n",
    "    \"\"\"Replace braketed text in a string\"\"\"\n",
    "    for text in find_braketed_text(item, string):\n",
    "        string = string.replace(text.group(0), replace)\n",
    "\n",
    "    return string"
   ]
  },
  {
   "cell_type": "code",
   "execution_count": 2,
   "outputs": [
    {
     "data": {
      "text/plain": "True"
     },
     "execution_count": 2,
     "metadata": {},
     "output_type": "execute_result"
    }
   ],
   "source": [
    "string = \"[abcdef] [abcdef] [def]\"\n",
    "is_braketed(string)"
   ],
   "metadata": {
    "collapsed": false
   }
  },
  {
   "cell_type": "code",
   "execution_count": 3,
   "outputs": [
    {
     "data": {
      "text/plain": "[<re.Match object; span=(0, 8), match='[abcdef]'>,\n <re.Match object; span=(9, 17), match='[abcdef]'>]"
     },
     "execution_count": 3,
     "metadata": {},
     "output_type": "execute_result"
    }
   ],
   "source": [
    "find_braketed_text(\"abcdef\", string)"
   ],
   "metadata": {
    "collapsed": false
   }
  },
  {
   "cell_type": "code",
   "execution_count": 4,
   "outputs": [
    {
     "data": {
      "text/plain": "'abc abc [def]'"
     },
     "execution_count": 4,
     "metadata": {},
     "output_type": "execute_result"
    }
   ],
   "source": [
    "replace_braketed(string, 'abcdef', \"abc\")"
   ],
   "metadata": {
    "collapsed": false
   }
  }
 ],
 "metadata": {
  "kernelspec": {
   "display_name": "Python 3",
   "language": "python",
   "name": "python3"
  },
  "language_info": {
   "codemirror_mode": {
    "name": "ipython",
    "version": 2
   },
   "file_extension": ".py",
   "mimetype": "text/x-python",
   "name": "python",
   "nbconvert_exporter": "python",
   "pygments_lexer": "ipython2",
   "version": "2.7.6"
  }
 },
 "nbformat": 4,
 "nbformat_minor": 0
}
